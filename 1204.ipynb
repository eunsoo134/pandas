{
  "nbformat": 4,
  "nbformat_minor": 0,
  "metadata": {
    "colab": {
      "name": "Untitled1.ipynb",
      "provenance": [],
      "authorship_tag": "ABX9TyMFOTwZmgh+w+k+NqXVFPAw",
      "include_colab_link": true
    },
    "kernelspec": {
      "name": "python3",
      "display_name": "Python 3"
    },
    "language_info": {
      "name": "python"
    }
  },
  "cells": [
    {
      "cell_type": "markdown",
      "metadata": {
        "id": "view-in-github",
        "colab_type": "text"
      },
      "source": [
        "<a href=\"https://colab.research.google.com/github/eunsoo134/pandas/blob/main/1204.ipynb\" target=\"_parent\"><img src=\"https://colab.research.google.com/assets/colab-badge.svg\" alt=\"Open In Colab\"/></a>"
      ]
    },
    {
      "cell_type": "code",
      "metadata": {
        "colab": {
          "base_uri": "https://localhost:8080/"
        },
        "id": "XNXuUhJH6Z69",
        "outputId": "a6487112-48d3-4f5a-d318-883e0222921f"
      },
      "source": [
        "#List, Tuple, Dict, Set \n",
        "'''\n",
        "#List - mutable, 수정과 삭제가 가능하다. 인덱싱, 슬라이싱 가능\n",
        "        하나의 리스트에 숫자형, 문자형, 튜플, 딕셔너리 섞어서 저장이 가능하다\n",
        "        *오류 날 확률 증가 \n",
        "        [] 대괄호로 표현 \n",
        "\n",
        "'''\n",
        "#리스트 생성\n",
        "odd=[1,2,3,4,5]\n",
        "odd\n"
      ],
      "execution_count": 1,
      "outputs": [
        {
          "output_type": "execute_result",
          "data": {
            "text/plain": [
              "[1, 2, 3, 4, 5]"
            ]
          },
          "metadata": {},
          "execution_count": 1
        }
      ]
    },
    {
      "cell_type": "code",
      "metadata": {
        "id": "fHNL80Mp9Ac8"
      },
      "source": [
        "a =[]"
      ],
      "execution_count": 2,
      "outputs": []
    },
    {
      "cell_type": "code",
      "metadata": {
        "id": "mg7tI9-r-auj"
      },
      "source": [
        "b=[1,2,3]"
      ],
      "execution_count": 3,
      "outputs": []
    },
    {
      "cell_type": "code",
      "metadata": {
        "id": "fq7vs0Gx-dJn"
      },
      "source": [
        "c=['a','b','c']"
      ],
      "execution_count": 4,
      "outputs": []
    },
    {
      "cell_type": "code",
      "metadata": {
        "id": "rut-tA-9-h_j"
      },
      "source": [
        "d=[1,2,'c','d']"
      ],
      "execution_count": 5,
      "outputs": []
    },
    {
      "cell_type": "code",
      "metadata": {
        "id": "s1AYNSUb-lwZ"
      },
      "source": [
        "e=[1,2,['good','morning']]"
      ],
      "execution_count": 6,
      "outputs": []
    },
    {
      "cell_type": "code",
      "metadata": {
        "id": "zhFAwGuW-y2L"
      },
      "source": [
        "#리스트 인덱싱 - 몇 번째 요소를 추출"
      ],
      "execution_count": null,
      "outputs": []
    },
    {
      "cell_type": "code",
      "metadata": {
        "colab": {
          "base_uri": "https://localhost:8080/"
        },
        "id": "ee6OHlb5-_79",
        "outputId": "ebaba04d-4585-4446-bceb-8514de4a3eb2"
      },
      "source": [
        "a= [1,2,3]\n",
        "a[0]"
      ],
      "execution_count": 7,
      "outputs": [
        {
          "output_type": "execute_result",
          "data": {
            "text/plain": [
              "1"
            ]
          },
          "metadata": {},
          "execution_count": 7
        }
      ]
    },
    {
      "cell_type": "code",
      "metadata": {
        "colab": {
          "base_uri": "https://localhost:8080/"
        },
        "id": "xTRh2wXo_Fln",
        "outputId": "eb011c0d-ca7f-4566-fbb0-1d5eec827b19"
      },
      "source": [
        "a[0]+a[2]"
      ],
      "execution_count": 8,
      "outputs": [
        {
          "output_type": "execute_result",
          "data": {
            "text/plain": [
              "4"
            ]
          },
          "metadata": {},
          "execution_count": 8
        }
      ]
    },
    {
      "cell_type": "code",
      "metadata": {
        "colab": {
          "base_uri": "https://localhost:8080/"
        },
        "id": "a_06IVspCbkT",
        "outputId": "74840a9d-075f-409d-873c-63b03e70b9e8"
      },
      "source": [
        "a[-1] #맨 끝에것 출력"
      ],
      "execution_count": 9,
      "outputs": [
        {
          "output_type": "execute_result",
          "data": {
            "text/plain": [
              "3"
            ]
          },
          "metadata": {},
          "execution_count": 9
        }
      ]
    },
    {
      "cell_type": "code",
      "metadata": {
        "id": "ln5jdMjFClYb"
      },
      "source": [
        "#리스트 슬라이싱 - 여러 개 추출 "
      ],
      "execution_count": null,
      "outputs": []
    },
    {
      "cell_type": "code",
      "metadata": {
        "colab": {
          "base_uri": "https://localhost:8080/"
        },
        "id": "-Ege_qzpCp7-",
        "outputId": "f5c6e1cf-7c7e-4645-83e8-1e028a94cf3c"
      },
      "source": [
        "a = [1,2,3,4,5]\n",
        "a[0:2] #0번째 부터 2미만까지 \n"
      ],
      "execution_count": 10,
      "outputs": [
        {
          "output_type": "execute_result",
          "data": {
            "text/plain": [
              "[1, 2]"
            ]
          },
          "metadata": {},
          "execution_count": 10
        }
      ]
    },
    {
      "cell_type": "code",
      "metadata": {
        "colab": {
          "base_uri": "https://localhost:8080/"
        },
        "id": "Ma5U2Oq8C9sP",
        "outputId": "0ff71286-7b6c-4c2f-e9e7-24bc5f9151d4"
      },
      "source": [
        "b = a[:2]\n",
        "b"
      ],
      "execution_count": 11,
      "outputs": [
        {
          "output_type": "execute_result",
          "data": {
            "text/plain": [
              "[1, 2]"
            ]
          },
          "metadata": {},
          "execution_count": 11
        }
      ]
    },
    {
      "cell_type": "code",
      "metadata": {
        "colab": {
          "base_uri": "https://localhost:8080/"
        },
        "id": "WkoDJY_jDTo3",
        "outputId": "84f270c8-efb8-4d2d-c87b-608591989b82"
      },
      "source": [
        "c= a[2:]\n",
        "c"
      ],
      "execution_count": 12,
      "outputs": [
        {
          "output_type": "execute_result",
          "data": {
            "text/plain": [
              "[3, 4, 5]"
            ]
          },
          "metadata": {},
          "execution_count": 12
        }
      ]
    },
    {
      "cell_type": "code",
      "metadata": {
        "colab": {
          "base_uri": "https://localhost:8080/"
        },
        "id": "sWsVzvn6DXm9",
        "outputId": "c557c584-73c0-44db-f138-d0441831429c"
      },
      "source": [
        "len(a)"
      ],
      "execution_count": 13,
      "outputs": [
        {
          "output_type": "execute_result",
          "data": {
            "text/plain": [
              "5"
            ]
          },
          "metadata": {},
          "execution_count": 13
        }
      ]
    },
    {
      "cell_type": "code",
      "metadata": {
        "colab": {
          "base_uri": "https://localhost:8080/"
        },
        "id": "5CR5ziVtDa5h",
        "outputId": "306c21ac-b835-4071-a0c1-66545fa2baa4"
      },
      "source": [
        "#리스트 수정과 삭제 \n",
        "a=[1,2,3]\n",
        "a[2] =4\n",
        "a"
      ],
      "execution_count": 14,
      "outputs": [
        {
          "output_type": "execute_result",
          "data": {
            "text/plain": [
              "[1, 2, 4]"
            ]
          },
          "metadata": {},
          "execution_count": 14
        }
      ]
    },
    {
      "cell_type": "code",
      "metadata": {
        "id": "w13uBqICD1_l"
      },
      "source": [
        "del a[1]\n"
      ],
      "execution_count": 15,
      "outputs": []
    },
    {
      "cell_type": "code",
      "metadata": {
        "colab": {
          "base_uri": "https://localhost:8080/"
        },
        "id": "dVz9H-9rD5ur",
        "outputId": "3bdf8459-dfb8-44cb-bdaa-3bc38360771c"
      },
      "source": [
        "a"
      ],
      "execution_count": 16,
      "outputs": [
        {
          "output_type": "execute_result",
          "data": {
            "text/plain": [
              "[1, 4]"
            ]
          },
          "metadata": {},
          "execution_count": 16
        }
      ]
    },
    {
      "cell_type": "code",
      "metadata": {
        "id": "txYct3ZuD8jI"
      },
      "source": [
        "a=[1,2,3,4,5]\n",
        "del a[2:]"
      ],
      "execution_count": 17,
      "outputs": []
    },
    {
      "cell_type": "code",
      "metadata": {
        "colab": {
          "base_uri": "https://localhost:8080/"
        },
        "id": "j11HqNpLEBa9",
        "outputId": "696cb170-d797-4999-a351-c02b0f0b0af2"
      },
      "source": [
        "a"
      ],
      "execution_count": 18,
      "outputs": [
        {
          "output_type": "execute_result",
          "data": {
            "text/plain": [
              "[1, 2]"
            ]
          },
          "metadata": {},
          "execution_count": 18
        }
      ]
    },
    {
      "cell_type": "code",
      "metadata": {
        "colab": {
          "base_uri": "https://localhost:8080/"
        },
        "id": "Tq55pn_oEKv7",
        "outputId": "1323a4d7-ae7b-43ea-ae88-a87bf4869b65"
      },
      "source": [
        "#리스트 관련 함수들 정리\n",
        "#append -리스트에 요소 추가 \n",
        " \n",
        "a= [1,2,3]\n",
        "a.append(4)\n",
        "a"
      ],
      "execution_count": 19,
      "outputs": [
        {
          "output_type": "execute_result",
          "data": {
            "text/plain": [
              "[1, 2, 3, 4]"
            ]
          },
          "metadata": {},
          "execution_count": 19
        }
      ]
    },
    {
      "cell_type": "code",
      "metadata": {
        "colab": {
          "base_uri": "https://localhost:8080/"
        },
        "id": "5NtzVxWmEbIj",
        "outputId": "ada5aed3-9463-4a95-a556-9e665fc6d032"
      },
      "source": [
        "#pop 마지막 요소를 끄집어 낼 때 사용 \n",
        "\n",
        "a.pop()"
      ],
      "execution_count": 20,
      "outputs": [
        {
          "output_type": "execute_result",
          "data": {
            "text/plain": [
              "4"
            ]
          },
          "metadata": {},
          "execution_count": 20
        }
      ]
    },
    {
      "cell_type": "code",
      "metadata": {
        "colab": {
          "base_uri": "https://localhost:8080/"
        },
        "id": "O5qRUr19EqTc",
        "outputId": "8ce1b409-7d2d-409f-c710-0fec631b23fc"
      },
      "source": [
        "a"
      ],
      "execution_count": 21,
      "outputs": [
        {
          "output_type": "execute_result",
          "data": {
            "text/plain": [
              "[1, 2, 3]"
            ]
          },
          "metadata": {},
          "execution_count": 21
        }
      ]
    },
    {
      "cell_type": "code",
      "metadata": {
        "colab": {
          "base_uri": "https://localhost:8080/"
        },
        "id": "PvWuILT-Esdn",
        "outputId": "1c462129-bac2-4439-9408-96849c18cd11"
      },
      "source": [
        "a.pop()\n"
      ],
      "execution_count": 22,
      "outputs": [
        {
          "output_type": "execute_result",
          "data": {
            "text/plain": [
              "3"
            ]
          },
          "metadata": {},
          "execution_count": 22
        }
      ]
    },
    {
      "cell_type": "code",
      "metadata": {
        "colab": {
          "base_uri": "https://localhost:8080/"
        },
        "id": "utDxAWMTEvg2",
        "outputId": "e4b3b55a-5f47-4644-9275-62a1e128af9b"
      },
      "source": [
        "a"
      ],
      "execution_count": 23,
      "outputs": [
        {
          "output_type": "execute_result",
          "data": {
            "text/plain": [
              "[1, 2]"
            ]
          },
          "metadata": {},
          "execution_count": 23
        }
      ]
    },
    {
      "cell_type": "code",
      "metadata": {
        "colab": {
          "base_uri": "https://localhost:8080/"
        },
        "id": "HIQkYpdtEwt-",
        "outputId": "6a4e8003-afd6-4e38-de7f-5cfb90c360cc"
      },
      "source": [
        "a.pop(0)"
      ],
      "execution_count": 24,
      "outputs": [
        {
          "output_type": "execute_result",
          "data": {
            "text/plain": [
              "1"
            ]
          },
          "metadata": {},
          "execution_count": 24
        }
      ]
    },
    {
      "cell_type": "code",
      "metadata": {
        "colab": {
          "base_uri": "https://localhost:8080/"
        },
        "id": "NI0UxqjDEzI5",
        "outputId": "e6f8153d-577e-486b-dfd6-3a9894c2cc53"
      },
      "source": [
        "a"
      ],
      "execution_count": 25,
      "outputs": [
        {
          "output_type": "execute_result",
          "data": {
            "text/plain": [
              "[2]"
            ]
          },
          "metadata": {},
          "execution_count": 25
        }
      ]
    },
    {
      "cell_type": "code",
      "metadata": {
        "id": "4MwWCL3nFCRY"
      },
      "source": [
        "#Tuple - immutable: 수정과 삭제가 불가하다. 인덱싱 슬라이싱 가능 ()소괄호 사용\n",
        "#하나의 튜플에 숫자형 문자형 튜플 딕셔너리 섞어서 저장이 가능하다. \n",
        "#하나만 튜플로 만들때는 쉼표를 넣어준다 (2,)"
      ],
      "execution_count": null,
      "outputs": []
    },
    {
      "cell_type": "code",
      "metadata": {
        "id": "MSzzNf9WFVKK"
      },
      "source": [
        "t1 =()\n",
        "\n",
        "t2 =(1,2,3)\n",
        "\n",
        "t3=('a','b','c')\n",
        "\n",
        "t4=('a','b',1,2,3)\n",
        "\n",
        "t5= 1,2,3 \n",
        "t6=(2,)"
      ],
      "execution_count": 28,
      "outputs": []
    },
    {
      "cell_type": "code",
      "metadata": {
        "colab": {
          "base_uri": "https://localhost:8080/",
          "height": 190
        },
        "id": "jZrWgQCjGUU4",
        "outputId": "813e5d68-8212-400b-c139-77e8f35d063a"
      },
      "source": [
        "t1 = (1,2,3,4,5)\n",
        "del t1[0] #튜플은 삭제 불가능 "
      ],
      "execution_count": 29,
      "outputs": [
        {
          "output_type": "error",
          "ename": "TypeError",
          "evalue": "ignored",
          "traceback": [
            "\u001b[0;31m---------------------------------------------------------------------------\u001b[0m",
            "\u001b[0;31mTypeError\u001b[0m                                 Traceback (most recent call last)",
            "\u001b[0;32m<ipython-input-29-07fc13c81734>\u001b[0m in \u001b[0;36m<module>\u001b[0;34m()\u001b[0m\n\u001b[1;32m      1\u001b[0m \u001b[0mt1\u001b[0m \u001b[0;34m=\u001b[0m \u001b[0;34m(\u001b[0m\u001b[0;36m1\u001b[0m\u001b[0;34m,\u001b[0m\u001b[0;36m2\u001b[0m\u001b[0;34m,\u001b[0m\u001b[0;36m3\u001b[0m\u001b[0;34m,\u001b[0m\u001b[0;36m4\u001b[0m\u001b[0;34m,\u001b[0m\u001b[0;36m5\u001b[0m\u001b[0;34m)\u001b[0m\u001b[0;34m\u001b[0m\u001b[0;34m\u001b[0m\u001b[0m\n\u001b[0;32m----> 2\u001b[0;31m \u001b[0;32mdel\u001b[0m \u001b[0mt1\u001b[0m\u001b[0;34m[\u001b[0m\u001b[0;36m0\u001b[0m\u001b[0;34m]\u001b[0m\u001b[0;34m\u001b[0m\u001b[0;34m\u001b[0m\u001b[0m\n\u001b[0m",
            "\u001b[0;31mTypeError\u001b[0m: 'tuple' object doesn't support item deletion"
          ]
        }
      ]
    },
    {
      "cell_type": "code",
      "metadata": {
        "colab": {
          "base_uri": "https://localhost:8080/",
          "height": 172
        },
        "id": "301aQEf_GcZH",
        "outputId": "aab72eed-3dd2-460f-cbcf-cf0e1202596c"
      },
      "source": [
        "t1[0] =9 #튜플은 수정 불가능 "
      ],
      "execution_count": 30,
      "outputs": [
        {
          "output_type": "error",
          "ename": "TypeError",
          "evalue": "ignored",
          "traceback": [
            "\u001b[0;31m---------------------------------------------------------------------------\u001b[0m",
            "\u001b[0;31mTypeError\u001b[0m                                 Traceback (most recent call last)",
            "\u001b[0;32m<ipython-input-30-13cb6f1a82d5>\u001b[0m in \u001b[0;36m<module>\u001b[0;34m()\u001b[0m\n\u001b[0;32m----> 1\u001b[0;31m \u001b[0mt1\u001b[0m\u001b[0;34m[\u001b[0m\u001b[0;36m0\u001b[0m\u001b[0;34m]\u001b[0m \u001b[0;34m=\u001b[0m\u001b[0;36m9\u001b[0m\u001b[0;34m\u001b[0m\u001b[0;34m\u001b[0m\u001b[0m\n\u001b[0m",
            "\u001b[0;31mTypeError\u001b[0m: 'tuple' object does not support item assignment"
          ]
        }
      ]
    },
    {
      "cell_type": "code",
      "metadata": {
        "colab": {
          "base_uri": "https://localhost:8080/"
        },
        "id": "MtaSxwQfGlFh",
        "outputId": "03eae5bc-e8ec-411c-e820-03f25aec7f59"
      },
      "source": [
        "#튜플에서 인덱싱 \n",
        "t1[0]"
      ],
      "execution_count": 31,
      "outputs": [
        {
          "output_type": "execute_result",
          "data": {
            "text/plain": [
              "1"
            ]
          },
          "metadata": {},
          "execution_count": 31
        }
      ]
    },
    {
      "cell_type": "code",
      "metadata": {
        "colab": {
          "base_uri": "https://localhost:8080/"
        },
        "id": "aA_UNC0YHK8r",
        "outputId": "40e63582-6fb4-454d-8879-394b6cf4d005"
      },
      "source": [
        "#튜플에서 슬라이싱 \n",
        "t1[1:]"
      ],
      "execution_count": 32,
      "outputs": [
        {
          "output_type": "execute_result",
          "data": {
            "text/plain": [
              "(2, 3, 4, 5)"
            ]
          },
          "metadata": {},
          "execution_count": 32
        }
      ]
    },
    {
      "cell_type": "code",
      "metadata": {
        "colab": {
          "base_uri": "https://localhost:8080/"
        },
        "id": "akcl_Oq2He6Z",
        "outputId": "156690ad-e6a3-4400-95c4-d2719458ba37"
      },
      "source": [
        "len(t1)"
      ],
      "execution_count": 33,
      "outputs": [
        {
          "output_type": "execute_result",
          "data": {
            "text/plain": [
              "5"
            ]
          },
          "metadata": {},
          "execution_count": 33
        }
      ]
    },
    {
      "cell_type": "code",
      "metadata": {
        "id": "90GyLGQeHgkd"
      },
      "source": [
        "#딕셔너리 - 이름: 이몽룡, 나이: 13 키: 벨류 형태 \n",
        "# 판다스 시리즈, 자바 맵 \n",
        "# 인덱싱과 슬라이싱 불가능 mutable :수정 삭제 가능 \n"
      ],
      "execution_count": null,
      "outputs": []
    },
    {
      "cell_type": "code",
      "metadata": {
        "id": "PnpGLpL2IqGn"
      },
      "source": [
        "dic ={'이름':'이몽룡','나이':16,'여친':'성춘향'}"
      ],
      "execution_count": 37,
      "outputs": []
    },
    {
      "cell_type": "code",
      "metadata": {
        "id": "ezfLdPnMJGYc"
      },
      "source": [
        "dic['과거시험']='통과'"
      ],
      "execution_count": 38,
      "outputs": []
    },
    {
      "cell_type": "code",
      "metadata": {
        "colab": {
          "base_uri": "https://localhost:8080/"
        },
        "id": "auMHSYlZJOBJ",
        "outputId": "0deff236-622c-4495-bc6c-c90bf56ae633"
      },
      "source": [
        "dic"
      ],
      "execution_count": 39,
      "outputs": [
        {
          "output_type": "execute_result",
          "data": {
            "text/plain": [
              "{'과거시험': '통과', '나이': 16, '여친': '성춘향', '이름': '이몽룡'}"
            ]
          },
          "metadata": {},
          "execution_count": 39
        }
      ]
    },
    {
      "cell_type": "code",
      "metadata": {
        "id": "OgtcfNLZJdDx"
      },
      "source": [
        "del dic['여친']"
      ],
      "execution_count": 40,
      "outputs": []
    },
    {
      "cell_type": "code",
      "metadata": {
        "colab": {
          "base_uri": "https://localhost:8080/"
        },
        "id": "858fZRq9Jpx-",
        "outputId": "a3f4b6e6-04e1-4bde-a957-f9f5905d0d81"
      },
      "source": [
        "dic"
      ],
      "execution_count": 41,
      "outputs": [
        {
          "output_type": "execute_result",
          "data": {
            "text/plain": [
              "{'과거시험': '통과', '나이': 16, '이름': '이몽룡'}"
            ]
          },
          "metadata": {},
          "execution_count": 41
        }
      ]
    },
    {
      "cell_type": "code",
      "metadata": {
        "colab": {
          "base_uri": "https://localhost:8080/",
          "height": 35
        },
        "id": "Xo_tlXw8Jrdk",
        "outputId": "a646f6f4-d6d1-4e2e-c87b-dd48d36a1035"
      },
      "source": [
        "dic['이름']"
      ],
      "execution_count": 42,
      "outputs": [
        {
          "output_type": "execute_result",
          "data": {
            "application/vnd.google.colaboratory.intrinsic+json": {
              "type": "string"
            },
            "text/plain": [
              "'이몽룡'"
            ]
          },
          "metadata": {},
          "execution_count": 42
        }
      ]
    },
    {
      "cell_type": "code",
      "metadata": {
        "id": "X6pVbXAJJzFz"
      },
      "source": [
        "# 리스트나 튜플은 요소값을 얻어낼 때 인덱싱이나 슬라이싱을 사용했다. \n",
        "#그러나 딕셔너리는 인덱싱과 슬라이싱이 불가능하며 \n",
        "#키 값으로 밸류값을 얻어내는 방법만 사용한다. \n",
        "\n"
      ],
      "execution_count": null,
      "outputs": []
    },
    {
      "cell_type": "code",
      "metadata": {
        "colab": {
          "base_uri": "https://localhost:8080/"
        },
        "id": "MB_lSdn-KWDi",
        "outputId": "df0ff169-23fb-4e04-b165-493822bb1522"
      },
      "source": [
        "#딕셔너리 관련 함수들....\n",
        "dic.keys()"
      ],
      "execution_count": 43,
      "outputs": [
        {
          "output_type": "execute_result",
          "data": {
            "text/plain": [
              "dict_keys(['이름', '나이', '과거시험'])"
            ]
          },
          "metadata": {},
          "execution_count": 43
        }
      ]
    },
    {
      "cell_type": "code",
      "metadata": {
        "colab": {
          "base_uri": "https://localhost:8080/"
        },
        "id": "t-EiehZFKbyN",
        "outputId": "bcdff30a-d26f-466d-a3f3-03a92c655ea5"
      },
      "source": [
        "dic.values()"
      ],
      "execution_count": 44,
      "outputs": [
        {
          "output_type": "execute_result",
          "data": {
            "text/plain": [
              "dict_values(['이몽룡', 16, '통과'])"
            ]
          },
          "metadata": {},
          "execution_count": 44
        }
      ]
    },
    {
      "cell_type": "code",
      "metadata": {
        "colab": {
          "base_uri": "https://localhost:8080/"
        },
        "id": "ZmYkNC_JKvp1",
        "outputId": "5362f00c-60b7-43cc-dd5e-dfc88341ef01"
      },
      "source": [
        "dic.items()"
      ],
      "execution_count": 45,
      "outputs": [
        {
          "output_type": "execute_result",
          "data": {
            "text/plain": [
              "dict_items([('이름', '이몽룡'), ('나이', 16), ('과거시험', '통과')])"
            ]
          },
          "metadata": {},
          "execution_count": 45
        }
      ]
    },
    {
      "cell_type": "code",
      "metadata": {
        "colab": {
          "base_uri": "https://localhost:8080/"
        },
        "id": "LmVokGztLBiV",
        "outputId": "63d908fd-0f9f-4c57-e466-2c1bb4ce098e"
      },
      "source": [
        "'이름' in dic"
      ],
      "execution_count": 46,
      "outputs": [
        {
          "output_type": "execute_result",
          "data": {
            "text/plain": [
              "True"
            ]
          },
          "metadata": {},
          "execution_count": 46
        }
      ]
    },
    {
      "cell_type": "code",
      "metadata": {
        "colab": {
          "base_uri": "https://localhost:8080/"
        },
        "id": "WVV52LrgLJRn",
        "outputId": "5e3469b5-3202-4e3a-cf93-2b156b347ac7"
      },
      "source": [
        "'이메일' in dic"
      ],
      "execution_count": 47,
      "outputs": [
        {
          "output_type": "execute_result",
          "data": {
            "text/plain": [
              "False"
            ]
          },
          "metadata": {},
          "execution_count": 47
        }
      ]
    },
    {
      "cell_type": "code",
      "metadata": {
        "colab": {
          "base_uri": "https://localhost:8080/"
        },
        "id": "wBX-qJrXLL2W",
        "outputId": "6b7ac7b6-3501-4f7f-b9f9-21291c0bc0f1"
      },
      "source": [
        "#Set 집합 - 중복을 허용하지 않는다. 순서가 없다. unordered\n",
        "#인덱싱과 슬라이싱 불가능. \n",
        "#mutable: 수정 삭제 가능 \n",
        "#중복 제거용 필터 형태로 많이 사용된다. \n",
        "s1 = set(\"Hello\")\n",
        "s1 #중복 허용x: l이 하나 없어짐\n"
      ],
      "execution_count": 50,
      "outputs": [
        {
          "output_type": "execute_result",
          "data": {
            "text/plain": [
              "{'H', 'e', 'l', 'o'}"
            ]
          },
          "metadata": {},
          "execution_count": 50
        }
      ]
    },
    {
      "cell_type": "code",
      "metadata": {
        "colab": {
          "base_uri": "https://localhost:8080/"
        },
        "id": "0WKjB6rLL1PM",
        "outputId": "a994d190-c8fb-49f3-b1b4-c3abcbf7b7b7"
      },
      "source": [
        "s1= set([1,2,3])\n",
        "s1.add(4)\n",
        "s1"
      ],
      "execution_count": 51,
      "outputs": [
        {
          "output_type": "execute_result",
          "data": {
            "text/plain": [
              "{1, 2, 3, 4}"
            ]
          },
          "metadata": {},
          "execution_count": 51
        }
      ]
    },
    {
      "cell_type": "code",
      "metadata": {
        "id": "22fTcFELMUVx"
      },
      "source": [
        "s1.remove(2)"
      ],
      "execution_count": 52,
      "outputs": []
    },
    {
      "cell_type": "code",
      "metadata": {
        "colab": {
          "base_uri": "https://localhost:8080/"
        },
        "id": "gWLVyjfxMYKW",
        "outputId": "24bf6c6a-0624-4457-8e97-1cd033ffab58"
      },
      "source": [
        "s1"
      ],
      "execution_count": 53,
      "outputs": [
        {
          "output_type": "execute_result",
          "data": {
            "text/plain": [
              "{1, 3, 4}"
            ]
          },
          "metadata": {},
          "execution_count": 53
        }
      ]
    },
    {
      "cell_type": "code",
      "metadata": {
        "id": "ieTsAqqlMe-S"
      },
      "source": [
        "import pandas as pd\n",
        "\n",
        "#시리즈, 데이터 프레임(*)\n",
        "\n",
        "#시리즈 키값과 벨류 값 형태 즉 파이썬 딕셔너리와 유사한 구조. \n",
        "\n",
        "dict_data = {'a':1,'b':2,'c':3}"
      ],
      "execution_count": 55,
      "outputs": []
    },
    {
      "cell_type": "code",
      "metadata": {
        "id": "Wq6jwleWRrQY"
      },
      "source": [
        "sr= pd.Series(dict_data)"
      ],
      "execution_count": 56,
      "outputs": []
    },
    {
      "cell_type": "code",
      "metadata": {
        "colab": {
          "base_uri": "https://localhost:8080/"
        },
        "id": "pcw0FwilQVAu",
        "outputId": "1c7567e4-d8be-4f98-8e32-e282b4206073"
      },
      "source": [
        "sr"
      ],
      "execution_count": 57,
      "outputs": [
        {
          "output_type": "execute_result",
          "data": {
            "text/plain": [
              "a    1\n",
              "b    2\n",
              "c    3\n",
              "dtype: int64"
            ]
          },
          "metadata": {},
          "execution_count": 57
        }
      ]
    },
    {
      "cell_type": "code",
      "metadata": {
        "colab": {
          "base_uri": "https://localhost:8080/"
        },
        "id": "DdLZOOzgR3zX",
        "outputId": "61e9f412-9937-429b-97a3-8ab8ae9cd423"
      },
      "source": [
        "type(sr)"
      ],
      "execution_count": 58,
      "outputs": [
        {
          "output_type": "execute_result",
          "data": {
            "text/plain": [
              "pandas.core.series.Series"
            ]
          },
          "metadata": {},
          "execution_count": 58
        }
      ]
    },
    {
      "cell_type": "code",
      "metadata": {
        "colab": {
          "base_uri": "https://localhost:8080/"
        },
        "id": "0XaCADX5R6E6",
        "outputId": "b38f1974-2b8e-4acf-c54b-58c0648d4033"
      },
      "source": [
        "type(dict_data)"
      ],
      "execution_count": 59,
      "outputs": [
        {
          "output_type": "execute_result",
          "data": {
            "text/plain": [
              "dict"
            ]
          },
          "metadata": {},
          "execution_count": 59
        }
      ]
    },
    {
      "cell_type": "code",
      "metadata": {
        "id": "N5wbj5orSVyP"
      },
      "source": [
        "list_data =['2021-12-04,',3.14,'ABC',100,True]"
      ],
      "execution_count": 60,
      "outputs": []
    },
    {
      "cell_type": "code",
      "metadata": {
        "colab": {
          "base_uri": "https://localhost:8080/"
        },
        "id": "L795sKkBSgVD",
        "outputId": "a5fcc578-1cff-4c9a-ccc2-59e2a2ed4096"
      },
      "source": [
        "sr= pd.Series(list_data)\n",
        "sr\n",
        "'''\n",
        "#시리즈의 인덱스 배열과 데이터 값의 배열을 \n",
        "인덱스는 0~4 범위의 정수로 인덱스\n",
        "데이터 값이 밸류 값으로 나열되어 시리즈를 생성한다. "
      ],
      "execution_count": 61,
      "outputs": [
        {
          "output_type": "execute_result",
          "data": {
            "text/plain": [
              "0    2021-12-04,\n",
              "1           3.14\n",
              "2            ABC\n",
              "3            100\n",
              "4           True\n",
              "dtype: object"
            ]
          },
          "metadata": {},
          "execution_count": 61
        }
      ]
    }
  ]
}